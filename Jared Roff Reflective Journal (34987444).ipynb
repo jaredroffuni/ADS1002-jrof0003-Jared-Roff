{
 "cells": [
  {
   "cell_type": "markdown",
   "id": "c9c44184",
   "metadata": {},
   "source": [
    "# Jared Roff Reflective Journal (34987444)"
   ]
  },
  {
   "cell_type": "markdown",
   "id": "d583cb14",
   "metadata": {},
   "source": [
    "### Week 1:"
   ]
  },
  {
   "cell_type": "markdown",
   "id": "e79c315d",
   "metadata": {},
   "source": [
    "#### Reflecting on Week 1 Studio:\n",
    "\n"
   ]
  },
  {
   "cell_type": "markdown",
   "id": "1905714f",
   "metadata": {},
   "source": [
    "During week one we were shown the course outline and assessments for the semester, as well as how to setup the new places to submit our assignments. Additionally in class we were told to already select topics for the project, and review Pandas. \n",
    "\n",
    "Coming back from the semester break and now being shown new systems and processes was quite daunting as I haven't used Github much before, and adjusting seems difficult. At first attempting the Pandas review questions seemed stressful as I hadn't done much revision and was unsure how much I remembered, however it all came back to me fairly quickly, apart from using conditional checks and for the most part I was feeling much more confident.\n",
    "\n",
    "The coding stuff went mostly well and so did setting up the Github account, however deciding on the project topic was difficult as all the topics seemed interesting and it was tough to narrow it down. The conditional checks in the Pandas questions didn't go well due to not having done them much in semester one and not having reviewed the code enough in the break. \n",
    "\n",
    "I have learned that I should practice and keep my coding skills up during the break, and that I should take notes on topics that aren't covered in the Pandas cheatsheet that I refer to. I should have been more proactive last semester to prevent this. To make up for this before next session I'll spend more time revising Pandas and getting comfortable with Github.   \n"
   ]
  },
  {
   "cell_type": "code",
   "execution_count": null,
   "id": "445b9044",
   "metadata": {},
   "outputs": [],
   "source": []
  }
 ],
 "metadata": {
  "kernelspec": {
   "display_name": "Python 3 (ipykernel)",
   "language": "python",
   "name": "python3"
  },
  "language_info": {
   "codemirror_mode": {
    "name": "ipython",
    "version": 3
   },
   "file_extension": ".py",
   "mimetype": "text/x-python",
   "name": "python",
   "nbconvert_exporter": "python",
   "pygments_lexer": "ipython3",
   "version": "3.11.5"
  }
 },
 "nbformat": 4,
 "nbformat_minor": 5
}
